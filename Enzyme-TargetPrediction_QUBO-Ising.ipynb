{
 "cells": [
  {
   "cell_type": "markdown",
   "id": "228e129b",
   "metadata": {},
   "source": [
    "# Enzyme-Target Prediction"
   ]
  },
  {
   "cell_type": "markdown",
   "id": "2d13e54a",
   "metadata": {},
   "source": [
    "This notebook is a demonstration for predicting potential interactions between enzymes and target molecules. This approach leverages the principles of quantum mechanics to solve optimization problems by formulating them as QUBO models"
   ]
  },
  {
   "cell_type": "markdown",
   "id": "e2e44ecf",
   "metadata": {},
   "source": [
    "**Idea** is provided by: **Andreas Rossos** aka [@zmokuspokus in Discord]"
   ]
  },
  {
   "cell_type": "markdown",
   "id": "73d0e3bd",
   "metadata": {},
   "source": [
    "**Dataset** is provided by: **MetXBioDB Metabolite Biotransformations**"
   ]
  },
  {
   "cell_type": "markdown",
   "id": "8e789eb4-af58-45e0-9206-c02e753554c5",
   "metadata": {},
   "source": [
    "**Code** is provided by: **Samer Rahmeh** aka [@samgr55 in Discord]"
   ]
  },
  {
   "cell_type": "markdown",
   "id": "3e53fb6b",
   "metadata": {},
   "source": [
    "Enzyme-Target Prediction - QUBO/Ising ---- Repo is available here : https://github.com/samgr55/Enzyme-TargetPrediction_QUBO-Ising"
   ]
  },
  {
   "cell_type": "markdown",
   "id": "4788011e",
   "metadata": {},
   "source": [
    "# **Importing Libraries**"
   ]
  },
  {
   "cell_type": "code",
   "execution_count": null,
   "id": "01451575",
   "metadata": {},
   "outputs": [],
   "source": [
    "import dimod\n",
    "from dimod import BinaryQuadraticModel, SimulatedAnnealingSampler\n",
    "import pandas as pd\n",
    "from collections import defaultdict, Counter\n",
    "from rdkit import Chem, DataStructs\n",
    "from rdkit.Chem import AllChem ,Descriptors, Draw\n",
    "import matplotlib.pyplot as plt\n",
    "import numpy as np\n",
    "from PIL import Image\n",
    "#import dynex"
   ]
  },
  {
   "cell_type": "markdown",
   "id": "f950e5c1",
   "metadata": {},
   "source": [
    "# **Loading Datasets**"
   ]
  },
  {
   "cell_type": "code",
   "execution_count": null,
   "id": "20565707",
   "metadata": {},
   "outputs": [],
   "source": [
    "df = pd.read_csv('Transformations.csv', encoding='latin1', nrows=1000) \n",
    "df1 = pd.read_csv('substances.csv', encoding='latin1', nrows=1000) \n",
    "df2 = pd.read_csv('metabolicdb.csv', encoding='latin1', nrows=1000) "
   ]
  },
  {
   "cell_type": "markdown",
   "id": "e9d097ad",
   "metadata": {},
   "source": [
    "### Check the datatypes"
   ]
  },
  {
   "cell_type": "code",
   "execution_count": null,
   "id": "416f294d",
   "metadata": {},
   "outputs": [],
   "source": [
    "print(\"Data types in df:\")\n",
    "print(df[['Predecessor_CID', 'Successor_CID', 'Enzyme']].dtypes)\n",
    "print(\"\\nData types in df1:\")\n",
    "print(df1[['InChI', 'PubChem_CID', 'SMILES']].dtypes)\n",
    "print(\"\\nData types in df2:\")\n",
    "print(df2[['substrate_cid', 'prod_cid', 'enzyme']].dtypes)"
   ]
  },
  {
   "cell_type": "markdown",
   "id": "ae7d32d7",
   "metadata": {},
   "source": [
    "### Merging Datasets"
   ]
  },
  {
   "cell_type": "code",
   "execution_count": null,
   "id": "5540b730",
   "metadata": {},
   "outputs": [],
   "source": [
    "df['Predecessor_Name'] = df['Predecessor_Name'].astype(str)\n",
    "df['Successor_CID'] = df['Successor_CID'].astype(float)\n",
    "df1['SubstanceName'] = df1['SubstanceName'].astype(str)\n",
    "df1['PubChem_CID'] = df1['PubChem_CID'].astype(float)\n",
    "df2['substrate_cid'] = df2['substrate_cid'].astype(str)\n",
    "df2['prod_cid'] = df2['prod_cid'].astype(str)\n",
    "\n",
    "# First merge\n",
    "mergedDf1 = pd.merge(df, df1, \n",
    "                      left_on=['Successor_CID'], \n",
    "                      right_on=['PubChem_CID'], \n",
    "                      how='inner')\n",
    "\n",
    "# Second merge\n",
    "mergedDf = pd.merge(mergedDf1, df2, \n",
    "                     left_on=['Enzyme'], \n",
    "                     right_on=['enzyme'], \n",
    "                     how='inner')"
   ]
  },
  {
   "cell_type": "markdown",
   "id": "6a80e565",
   "metadata": {},
   "source": [
    "# Initialization:"
   ]
  },
  {
   "cell_type": "markdown",
   "id": "f8ff522d",
   "metadata": {},
   "source": [
    "- Preprocessing dataset \n",
    "- Calculate Enzyme Frequencies\n",
    "- Set the threshold for **high frequency enzymes**\n",
    "- Group by **Transformation** [Type] and Enzyme, then count the occurrences\n",
    "- Filter transformation types specific to **single enzymes**"
   ]
  },
  {
   "cell_type": "code",
   "execution_count": null,
   "id": "ba84496d",
   "metadata": {},
   "outputs": [],
   "source": [
    "%%time\n",
    "enzymeCounter = Counter()\n",
    "allPossiblePairs = set()\n",
    "allPossibleEnzymes = set()\n",
    "def updateSetsAndCounter(row):\n",
    "    enzymes = row['Enzyme'].split('; ')\n",
    "    enzymeCounter.update(enzymes)\n",
    "    allPossiblePairs.add((row['Predecessor_CID'], row['Successor_CID']))\n",
    "    allPossibleEnzymes.update(enzymes)\n",
    "mergedDf.apply(updateSetsAndCounter, axis=1)\n",
    "print(\"[INFO]: PHASE-1 DONE !\")\n",
    "\n",
    "enzymeFrequenciesDf = pd.DataFrame.from_dict(enzymeCounter, orient='index', columns=['Frequency']).reset_index()\n",
    "enzymeFrequenciesDf.rename(columns={'index': 'Enzyme'}, inplace=True)\n",
    "enzymeFrequenciesDf.sort_values(by='Frequency', ascending=False, inplace=True)\n",
    "print(\"[INFO]: PHASE-2 DONE !\")\n",
    "\n",
    "highFrequencyEnzymes = set(enzymeFrequenciesDf[enzymeFrequenciesDf['Frequency'] >= 10]['Enzyme'])\n",
    "print(\"[INFO]: PHASE-3 DONE !\")\n",
    "\n",
    "transformationEnzymeGroups = mergedDf.groupby(['Transformation', 'Enzyme']).size().reset_index(name='Counts')\n",
    "enzymeSpecificTransformationsSet = set(\n",
    "    transformationEnzymeGroups.groupby('Transformation')\n",
    "    .filter(lambda x: len(x) == 1)['Transformation'])\n",
    "print(\"[INFO]: PHASE-4 DONE !\")"
   ]
  },
  {
   "cell_type": "markdown",
   "id": "6d8ecd82",
   "metadata": {},
   "source": [
    "### Calculating weights based **high frequency enzymes** / **Transformations** / **Biosystem [Human]**"
   ]
  },
  {
   "cell_type": "code",
   "execution_count": null,
   "id": "fde647f9",
   "metadata": {
    "scrolled": true
   },
   "outputs": [],
   "source": [
    "%%time\n",
    "def calculateWeights(row):\n",
    "    rowBasedWeight = 10 * (row['Enzyme'] in highFrequencyEnzymes)\n",
    "    rowBasedWeight += 5 * (row['Transformation'] in enzymeSpecificTransformationsSet)\n",
    "    rowBasedWeight += 3 * (row['Biosystem'] == 'Human')\n",
    "    return rowBasedWeight\n",
    "mergedDf['Row_Based_Weight'] = mergedDf.apply(calculateWeights, axis=1)\n",
    "print(\"[INFO]: PHASE-5 DONE !\")\n",
    "\n",
    "def calculateChemicalStructureWeight(inchi, smiles):\n",
    "    weight = 0\n",
    "    molInchi = Chem.MolFromInchi(inchi)\n",
    "    molSmiles = Chem.MolFromSmiles(smiles)\n",
    "    if molInchi and molSmiles:\n",
    "        mwInchi = Descriptors.MolWt(molInchi)\n",
    "        mwSmiles = Descriptors.MolWt(molSmiles)\n",
    "        fpInchi = Chem.RDKFingerprint(molInchi)\n",
    "        fpSmiles = Chem.RDKFingerprint(molSmiles)\n",
    "        tanimotoSimilarity = DataStructs.FingerprintSimilarity(fpInchi, fpSmiles)\n",
    "        weight = mwInchi * tanimotoSimilarity + mwSmiles\n",
    "    return weight\n",
    "print(\"[INFO]: PHASE-6 DONE !\")\n",
    "\n",
    "\n",
    "Q = defaultdict(int)\n",
    "N = 5 # at least have 5 pairs that catalyze with X enzyme\n",
    "\n",
    "# Updating Q Model (Dictionary) [Q: QUBO Model]\n",
    "def updateQ(row):\n",
    "    try:\n",
    "        enzymes = row['Enzyme'].split('; ')\n",
    "        target = row['Successor_CID']\n",
    "        predecessor = row['Predecessor_CID']\n",
    "        weight1 = row['Row_Based_Weight']\n",
    "        weight2 = calculateChemicalStructureWeight(row['InChI'], row['SMILES'])\n",
    "        totalWeight = weight1 + weight2\n",
    "        for enzyme in enzymes:\n",
    "            enzyme = enzyme.strip()\n",
    "            pair = f\"{enzyme}_{predecessor}_{target}\"\n",
    "            Q[(pair, pair)] += -totalWeight\n",
    "            for otherPredecessor, otherTarget in allPossiblePairs:\n",
    "                otherPair = f\"{enzyme}_{otherPredecessor}_{otherTarget}\"\n",
    "                Q[(pair, otherPair)] += 2 * N\n",
    "    except Exception as e:\n",
    "        print(f\"An error occurred finding in chemical informatics: {e}\")\n",
    "        print(f\"Skipping row: {row}\")\n",
    "mergedDf.apply(updateQ, axis=1)\n",
    "print(\"[INFO]: PHASE-7 DONE !\")"
   ]
  },
  {
   "cell_type": "markdown",
   "id": "7a2709e5",
   "metadata": {},
   "source": [
    "## Initializing Constrains + Adjacencies for Q model"
   ]
  },
  {
   "cell_type": "code",
   "execution_count": null,
   "id": "b2ab2409",
   "metadata": {},
   "outputs": [],
   "source": [
    "def updatePairConstraint(predecessor, target):\n",
    "    pairsForThisReaction = [\n",
    "        f\"{enzyme.strip()}_{predecessor}_{target}\"\n",
    "        for enzyme in allPossibleEnzymes\n",
    "    ]\n",
    "    for i, pair1 in enumerate(pairsForThisReaction):\n",
    "        for j, pair2 in enumerate(pairsForThisReaction):\n",
    "            if i != j:\n",
    "                Q[(pair1, pair2)] -= 2  # EXPERIMENTAL::Encourage at least one enzyme to catalyze each (predecessor, target)\n",
    "print(\"[INFO]: PHASE-8 DONE !\")\n",
    "\n",
    "for predecessor, target in allPossiblePairs:\n",
    "    updatePairConstraint(predecessor, target)\n",
    "pairToIndex = {pair: i for i, pair in enumerate(allPossiblePairs)}\n",
    "enzymeToIndex = {enzyme: j for j, enzyme in enumerate(allPossibleEnzymes)}\n",
    "adjacencyMatrix = np.zeros((len(allPossiblePairs), len(allPossibleEnzymes)))\n",
    "def updateAdjacencyMatrix(pair, i):\n",
    "    for enzyme, j in enzymeToIndex.items():\n",
    "        pairStr = f\"{enzyme.strip()}_{pair[0]}_{pair[1]}\"\n",
    "        if (pairStr, pairStr) in Q:\n",
    "            adjacencyMatrix[i, j] = 1            \n",
    "print(\"[INFO]: PHASE-9 DONE !\")\n",
    "\n",
    "for pair, i in pairToIndex.items():\n",
    "    updateAdjacencyMatrix(pair, i)\n",
    "def refineConstraints(adjacencyMatrix):\n",
    "    stronglyConnectedEnzymes = np.sum(adjacencyMatrix, axis=0) > 1\n",
    "    stronglyConnectedPairs = np.sum(adjacencyMatrix, axis=1) > 1    \n",
    "    for pair, i in pairToIndex.items():\n",
    "        for enzyme, j in enzymeToIndex.items():\n",
    "            pairStr = f\"{enzyme.strip()}_{pair[0]}_{pair[1]}\"\n",
    "            qVal = Q.get((pairStr, pairStr), 0)\n",
    "            if qVal:\n",
    "                if stronglyConnectedEnzymes[j]:\n",
    "                    Q[(pairStr, pairStr)] = qVal * 1.5  # Increase by 50%\n",
    "                if stronglyConnectedPairs[i]:\n",
    "                    Q[(pairStr, pairStr)] = qVal * 1.5  # Increase by 50%\n",
    "\n",
    "refineConstraints(adjacencyMatrix)\n",
    "print(\"[INFO]: PHASE-10 DONE !\")"
   ]
  },
  {
   "cell_type": "markdown",
   "id": "1742a7b7",
   "metadata": {},
   "source": [
    "# Initialize QUBO [BQM] using Dimod"
   ]
  },
  {
   "cell_type": "code",
   "execution_count": null,
   "id": "0129561d",
   "metadata": {},
   "outputs": [],
   "source": [
    "%%time\n",
    "bqm = BinaryQuadraticModel.from_qubo(Q)"
   ]
  },
  {
   "cell_type": "markdown",
   "id": "8fa1ef70",
   "metadata": {},
   "source": [
    "## Applying Constrains/Adjancencies to BQM"
   ]
  },
  {
   "cell_type": "code",
   "execution_count": null,
   "id": "ad855979",
   "metadata": {},
   "outputs": [],
   "source": [
    "for i, (predecessor, target) in enumerate(allPossiblePairs):\n",
    "    for j, enzyme in enumerate(allPossibleEnzymes):\n",
    "        pairStr = f\"{enzyme.strip()}_{predecessor}_{target}\"\n",
    "        if adjacencyMatrix[i, j] == 1:\n",
    "            if (pairStr, pairStr) in Q:\n",
    "                bqm.set_linear(pairStr, Q[(pairStr, pairStr)])"
   ]
  },
  {
   "cell_type": "markdown",
   "id": "b353d296",
   "metadata": {},
   "source": [
    "## Compute using DIMOD [Simulated Annealing Sampler]"
   ]
  },
  {
   "cell_type": "code",
   "execution_count": null,
   "id": "b89dbb96",
   "metadata": {},
   "outputs": [],
   "source": [
    "%%time\n",
    "sampler = SimulatedAnnealingSampler()\n",
    "response = sampler.sample(bqm, num_reads=1)  # My CPU Couldn't handle more than 1 num_reads :\\\n",
    "bestSol = response.first.sample\n",
    "bestEng = response.first.energy\n",
    "#print(\"Best Solution:\", bestSol)\n",
    "#print(\"Energy:\", bestEng)"
   ]
  },
  {
   "cell_type": "markdown",
   "id": "1a769eb9",
   "metadata": {},
   "source": [
    "## - Compute using DYNEX"
   ]
  },
  {
   "cell_type": "code",
   "execution_count": null,
   "id": "d0d6ec64",
   "metadata": {},
   "outputs": [],
   "source": [
    "%%time\n",
    "model = dynex.BQM(bqm)\n",
    "sampler = dynex.DynexSampler(model,  mainnet=True, description='Enzyme-Target Prediction')\n",
    "sampleset = sampler.sample(num_reads=10000, annealing_time = 1000, debugging=True)\n",
    "bestSol = sampleset.first.sample"
   ]
  },
  {
   "cell_type": "code",
   "execution_count": null,
   "id": "47562a7c-a068-4534-974e-a67fee86bf48",
   "metadata": {},
   "outputs": [],
   "source": [
    "#print('DYNEX RESULT:',bestSol)"
   ]
  },
  {
   "cell_type": "markdown",
   "id": "5b2e3a6f",
   "metadata": {},
   "source": [
    "# Loading Best Solution"
   ]
  },
  {
   "cell_type": "code",
   "execution_count": null,
   "id": "bef5cea5",
   "metadata": {},
   "outputs": [],
   "source": [
    "optimalPairs = [pair for pair, value in bestSol.items() if value == 1]\n",
    "optimalTransformations = {}\n",
    "\n",
    "for pair in optimalPairs:\n",
    "    _, predecessor, target = pair.split('_')\n",
    "    predQuery = df1.loc[df1['PubChem_CID'] == int(predecessor), 'SMILES']\n",
    "    targetQuery = df1.loc[df1['PubChem_CID'] == float(target), 'SMILES']\n",
    "    predecessorSmiles = predQuery.iloc[0] if not predQuery.empty else 'Not Found'\n",
    "    targetSmiles = targetQuery.iloc[0] if not targetQuery.empty else 'Not Found'\n",
    "    optimalTransformations[predecessorSmiles] = targetSmiles\n",
    "\n",
    "    #print(f\"Optimal transformation: {predecessorSmiles} -> {targetSmiles}\")"
   ]
  },
  {
   "cell_type": "markdown",
   "id": "3e2c6156",
   "metadata": {},
   "source": [
    "## - Visualization"
   ]
  },
  {
   "cell_type": "code",
   "execution_count": null,
   "id": "592bd665",
   "metadata": {},
   "outputs": [],
   "source": [
    "def Visualize(predecessorSmiles):\n",
    "    targetSmiles = optimalTransformations.get(predecessorSmiles, \"Not found\")\n",
    "    if targetSmiles == \"Not found\":\n",
    "        print(\"Predecessor SMILES not found in the optimal transformations.\")\n",
    "        return\n",
    "    # Drawing predecessor molecule\n",
    "    predMol = Chem.MolFromSmiles(predecessorSmiles)\n",
    "    predImg = Draw.MolToMPL(predMol, size=(300, 300), kekulize=True)\n",
    "    plt.title(\"Predecessor Molecule\")\n",
    "    plt.axis(\"off\")\n",
    "    plt.show()\n",
    "    \n",
    "    # Drawing target molecule\n",
    "    targetMol = Chem.MolFromSmiles(targetSmiles)\n",
    "    targetImg = Draw.MolToMPL(targetMol, size=(300, 300), kekulize=True)\n",
    "    plt.title(\"Predicted Target Molecule\")\n",
    "    plt.axis(\"off\")\n",
    "    plt.show()\n",
    "\n",
    "predecessorSmiles = \"C[C@]12CCC(=O)C=C1CC[C@H]1[C@@H]3CC[C@@H]([C@@]3(C)CC[C@H]21)O\" # EXAMPLE \n",
    "Visualize(predecessorSmiles)"
   ]
  }
 ],
 "metadata": {
  "kernelspec": {
   "display_name": "Python 3 (ipykernel)",
   "language": "python",
   "name": "python3"
  },
  "language_info": {
   "codemirror_mode": {
    "name": "ipython",
    "version": 3
   },
   "file_extension": ".py",
   "mimetype": "text/x-python",
   "name": "python",
   "nbconvert_exporter": "python",
   "pygments_lexer": "ipython3",
   "version": "3.9.17"
  }
 },
 "nbformat": 4,
 "nbformat_minor": 5
}
